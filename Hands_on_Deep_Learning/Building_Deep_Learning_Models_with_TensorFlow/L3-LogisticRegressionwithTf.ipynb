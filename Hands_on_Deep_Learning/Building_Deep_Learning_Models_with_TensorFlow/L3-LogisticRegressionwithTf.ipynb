{
 "cells": [
  {
   "cell_type": "markdown",
   "metadata": {},
   "source": [
    "<h2>LOGISTIC REGRESSION WITH TENSORFLOW</h2>\n",
    "\n",
    "<h3>Objective for this Notebook<h3>    \n",
    "<h5> 1. What is different between Linear and Logistic Regression?</h5>\n",
    "<h5> 2. Utilizing Logistic Regression in TensorFlow. </h5>\n",
    "<h5> 3. Training the model </h5>\n"
   ]
  },
  {
   "cell_type": "markdown",
   "metadata": {},
   "source": [
    "<a id=\"ref2\"></a>\n",
    "\n",
    "<h2>Utilizing Logistic Regression in TensorFlow</h2>\n",
    "\n",
    "We begin by installing TensorFlow version 2.2.0 and its required prerequistes.\n"
   ]
  },
  {
   "cell_type": "code",
   "execution_count": 1,
   "metadata": {},
   "outputs": [],
   "source": [
    "# !pip install grpcio==1.24.3\n",
    "# !pip install tensorflow==2.2.0"
   ]
  },
  {
   "cell_type": "markdown",
   "metadata": {},
   "source": [
    "For us to utilize Logistic Regression in TensorFlow, we first need to import the required libraries. To do so, you can run the code cell below.\n"
   ]
  },
  {
   "cell_type": "code",
   "execution_count": 2,
   "metadata": {},
   "outputs": [],
   "source": [
    "import tensorflow as tf\n",
    "import pandas as pd\n",
    "import numpy as np\n",
    "import time\n",
    "from sklearn.datasets import load_iris\n",
    "from sklearn.model_selection import train_test_split\n",
    "import matplotlib.pyplot as plt"
   ]
  },
  {
   "cell_type": "markdown",
   "metadata": {},
   "source": [
    "Next, we will load the dataset we are going to use. In this case, we are utilizing the <code>iris</code> dataset, which is inbuilt -- so there's no need to do any preprocessing and we can jump right into manipulating it. We separate the dataset into <i>xs</i> and <i>ys</i>, and then into training <i>xs</i> and <i>ys</i> and testing <i>xs</i> and <i>ys</i>, (pseudo)randomly.\n"
   ]
  },
  {
   "cell_type": "markdown",
   "metadata": {},
   "source": [
    "<h3>Understanding the Data</h3>\n",
    "\n",
    "<h4><code>Iris Dataset</code>:</h4>\n",
    "This dataset was introduced by British Statistician and Biologist Ronald Fisher, it consists of 50 samples from each of three species of Iris (Iris setosa, Iris virginica and Iris versicolor). In total it has 150 records under five attributes - petal length, petal width, sepal length, sepal width and species. <a href=\"https://archive.ics.uci.edu/ml/datasets/iris\">Dataset source</a>\n",
    "\n",
    "Attributes\n",
    "Independent Variable\n",
    "\n",
    "<ul>\n",
    "    <li>petal length</li>\n",
    "    <li>petal width</li>\n",
    "    <li>sepal length</li>\n",
    "    <li>sepal width</li>\n",
    "</ul>\n",
    "Dependent Variable\n",
    "<ul>    \n",
    "    <li>Species\n",
    "        <ul>\n",
    "            <li>Iris setosa</li>\n",
    "            <li>Iris virginica</li>\n",
    "            <li>Iris versicolor</li>\n",
    "        </ul>\n",
    "    </li>\n",
    "</ul>\n",
    "<br>\n"
   ]
  },
  {
   "cell_type": "code",
   "execution_count": 17,
   "metadata": {},
   "outputs": [],
   "source": [
    "iris = load_iris()\n",
    "iris_X, iris_y = iris.data[:-1,:], iris.target[:-1]\n",
    "iris_y= pd.get_dummies(iris_y).values\n",
    "trainX, testX, trainY, testY = train_test_split(iris_X, iris_y, test_size=0.33, random_state=42)"
   ]
  },
  {
   "cell_type": "code",
   "execution_count": 18,
   "metadata": {},
   "outputs": [
    {
     "data": {
      "text/plain": [
       "(99, 4)"
      ]
     },
     "execution_count": 18,
     "metadata": {},
     "output_type": "execute_result"
    }
   ],
   "source": [
    "trainX.shape"
   ]
  },
  {
   "cell_type": "markdown",
   "metadata": {},
   "source": [
    "Now we define x and y. These variables will hold our iris data (both the features and label matrices) We also need to give them shapes which correspond to the shape of our data. \n"
   ]
  },
  {
   "cell_type": "code",
   "execution_count": 19,
   "metadata": {},
   "outputs": [
    {
     "name": "stdout",
     "output_type": "stream",
     "text": [
      "numFeatures is :  4\n",
      "numLabels is :  3\n"
     ]
    }
   ],
   "source": [
    "# numFeatures is the number of features in our input data.\n",
    "# In the iris dataset, this number is '4'.\n",
    "numFeatures = trainX.shape[1]\n",
    "print('numFeatures is : ', numFeatures )\n",
    "# numLabels is the number of classes our data points can be in.\n",
    "# In the iris dataset, this number is '3'.\n",
    "numLabels = trainY.shape[1]\n",
    "print('numLabels is : ', numLabels )\n",
    "\n",
    "X = tf.Variable( np.identity(numFeatures), tf.TensorShape(numFeatures),dtype='float32') # Iris has 4 features, so X is a tensor to hold our data.\n",
    "yGold = tf.Variable(np.array([1,1,1]),shape=tf.TensorShape(numLabels),dtype='float32') # This will be our correct answers matrix for 3 classes."
   ]
  },
  {
   "cell_type": "code",
   "execution_count": 20,
   "metadata": {},
   "outputs": [
    {
     "data": {
      "text/plain": [
       "array([[1., 0., 0., 0.],\n",
       "       [0., 1., 0., 0.],\n",
       "       [0., 0., 1., 0.],\n",
       "       [0., 0., 0., 1.]], dtype=float32)"
      ]
     },
     "execution_count": 20,
     "metadata": {},
     "output_type": "execute_result"
    }
   ],
   "source": [
    "X.numpy()"
   ]
  },
  {
   "cell_type": "code",
   "execution_count": 21,
   "metadata": {},
   "outputs": [
    {
     "data": {
      "text/plain": [
       "array([1., 1., 1.], dtype=float32)"
      ]
     },
     "execution_count": 21,
     "metadata": {},
     "output_type": "execute_result"
    }
   ],
   "source": [
    "yGold.numpy()"
   ]
  },
  {
   "cell_type": "markdown",
   "metadata": {},
   "source": [
    "<h3>Set model weights and bias</h3>\n",
    "\n",
    "Much like Linear Regression, we need a shared variable weight matrix for Logistic Regression. We initialize both <code>W</code> and <code>b</code> as tensors full of zeros. Since we are going to learn <code>W</code> and <code>b</code>, their initial value does not matter too much. These variables are the objects which define the structure of our regression model, and we can save them after they have been trained so we can reuse them later.\n",
    "\n",
    "We define two TensorFlow variables as our parameters. These variables will hold the weights and biases of our logistic regression and they will be continually updated during training. \n",
    "\n",
    "Notice that <code>W</code> has a shape of [4, 3] because we want to multiply the 4-dimensional input vectors by it to produce 3-dimensional vectors of evidence for the difference classes. <code>b</code> has a shape of [3] so we can add it to the output. TensorFlow variables need to be initialized with values, e.g. with zeros.\n"
   ]
  },
  {
   "cell_type": "code",
   "execution_count": 22,
   "metadata": {},
   "outputs": [],
   "source": [
    "W = tf.Variable(tf.zeros([4, 3]))  # 4-dimensional input and  3 classes\n",
    "b = tf.Variable(tf.zeros([3])) # 3-dimensional output [0,0,1],[0,1,0],[1,0,0]"
   ]
  },
  {
   "cell_type": "code",
   "execution_count": 23,
   "metadata": {},
   "outputs": [],
   "source": [
    "#Randomly sample from a normal distribution with standard deviation .01\n",
    "\n",
    "weights = tf.Variable(tf.random.normal([numFeatures,numLabels],\n",
    "                                       mean=0.,\n",
    "                                       stddev=0.01,\n",
    "                                       name=\"weights\"),dtype='float32')\n",
    "\n",
    "\n",
    "bias = tf.Variable(tf.random.normal([1,numLabels],\n",
    "                                    mean=0.,\n",
    "                                    stddev=0.01,\n",
    "                                    name=\"bias\"))\n"
   ]
  },
  {
   "cell_type": "markdown",
   "metadata": {},
   "source": [
    "<h3>Logistic Regression model</h3>\n",
    "\n",
    "We now define our operations in order to properly run the Logistic Regression. Logistic regression is typically thought of as a single equation:\n",
    "\n",
    "$$\n",
    "ŷ =sigmoid(WX+b)\n",
    "$$\n",
    "\n",
    "However, for the sake of clarity, we can have it broken into its three main components: \n",
    "\n",
    "-   a weight times features matrix multiplication operation, \n",
    "-   a summation of the weighted features and a bias term, \n",
    "-   and finally the application of a sigmoid function. \n",
    "\n",
    "As such, you will find these components defined as three separate operations below.\n"
   ]
  },
  {
   "cell_type": "code",
   "execution_count": 24,
   "metadata": {},
   "outputs": [],
   "source": [
    "# Three-component breakdown of the Logistic Regression equation.\n",
    "# Note that these feed into each other.\n",
    "def logistic_regression(x):\n",
    "    apply_weights_OP = tf.matmul(X, weights, name=\"apply_weights\")\n",
    "    add_bias_OP = tf.add(apply_weights_OP, bias, name=\"add_bias\") \n",
    "    activation_OP = tf.nn.sigmoid(add_bias_OP, name=\"activation\")\n",
    "    return activation_OP"
   ]
  },
  {
   "cell_type": "markdown",
   "metadata": {},
   "source": [
    "Training"
   ]
  },
  {
   "cell_type": "code",
   "execution_count": 25,
   "metadata": {},
   "outputs": [],
   "source": [
    "# Number of Epochs in our training\n",
    "numEpochs = 700\n",
    "\n",
    "# Defining our learning rate iterations (decay)\n",
    "learningRate = tf.keras.optimizers.schedules.ExponentialDecay(initial_learning_rate=0.0008,\n",
    "                                          decay_steps=trainX.shape[0],\n",
    "                                          decay_rate= 0.5,\n",
    "                                          staircase=True)"
   ]
  },
  {
   "cell_type": "markdown",
   "metadata": {},
   "source": [
    "<b>What is the cost function in our model?</b>  \n",
    "The cost function we are going to utilize is the Squared Mean Error loss function.\n",
    "\n",
    "<b>How to minimize the cost function?</b>  \n",
    "We can't use <b>least-squares linear regression</b> here, so we will use <a href=\"http://en.wikipedia.org/wiki/Gradient_descent\">gradient descent</a> instead. Specifically, we will use batch gradient descent which calculates the gradient from all data points in the data set.\n"
   ]
  },
  {
   "cell_type": "code",
   "execution_count": 26,
   "metadata": {},
   "outputs": [],
   "source": [
    "#Defining our cost function - Squared Mean Error\n",
    "loss_object = tf.keras.losses.MeanSquaredLogarithmicError()\n",
    "optimizer = tf.keras.optimizers.SGD(learningRate)"
   ]
  },
  {
   "cell_type": "markdown",
   "metadata": {},
   "source": [
    "We also want some additional operations to keep track of our model's efficiency over time. We can do this like so:\n"
   ]
  },
  {
   "cell_type": "code",
   "execution_count": 27,
   "metadata": {},
   "outputs": [],
   "source": [
    "# Accuracy metric.\n",
    "def accuracy(y_pred, y_true):\n",
    "# Predicted class is the index of the highest score in prediction vector (i.e. argmax).\n",
    "    print('y_pred : ',y_pred)\n",
    "    print('y_true : ',y_true)\n",
    "    correct_prediction = tf.equal(tf.argmax(y_pred, -1), tf.argmax(y_true, -1))\n",
    "\n",
    "    return tf.reduce_mean(tf.cast(correct_prediction, tf.float32))"
   ]
  },
  {
   "cell_type": "markdown",
   "metadata": {},
   "source": [
    "we first wrap computation inside a GradientTape for automatic differentiation. Then we compute gradients and update W and b.\n"
   ]
  },
  {
   "cell_type": "code",
   "execution_count": 28,
   "metadata": {},
   "outputs": [],
   "source": [
    "# Optimization process. \n",
    "\n",
    "def run_optimization(x, y):\n",
    "    with tf.GradientTape() as g:\n",
    "        pred = logistic_regression(x)\n",
    "        loss = loss_object(pred, y)\n",
    "    gradients = g.gradient(loss, [weights, bias])\n",
    "    optimizer.apply_gradients(zip(gradients, [weights, bias]))"
   ]
  },
  {
   "cell_type": "markdown",
   "metadata": {},
   "source": [
    "Now we move on to actually running our operations. We will start with the operations involved in the prediction phase (i.e. the logistic regression itself).\n"
   ]
  },
  {
   "cell_type": "markdown",
   "metadata": {},
   "source": [
    "Now we can define and run the actual training loop, like this:\n"
   ]
  },
  {
   "cell_type": "code",
   "execution_count": 29,
   "metadata": {},
   "outputs": [
    {
     "name": "stdout",
     "output_type": "stream",
     "text": [
      "y_pred :  tf.Tensor(\n",
      "[[0.50295013 0.500403   0.49536029]\n",
      " [0.50404483 0.49819157 0.4967357 ]\n",
      " [0.50094515 0.49582532 0.4938091 ]\n",
      " [0.50193864 0.5034869  0.5044856 ]], shape=(4, 3), dtype=float32)\n",
      "y_true :  <tf.Variable 'Variable:0' shape=(3,) dtype=float32, numpy=array([1., 1., 1.], dtype=float32)>\n",
      "step 0, training accuracy 0.75, loss 0.0828266, change in loss 0.0828266\n",
      "y_pred :  tf.Tensor(\n",
      "[[0.5030294  0.500483   0.49544087]\n",
      " [0.5041241  0.49827167 0.49681622]\n",
      " [0.50102454 0.49590552 0.49388972]\n",
      " [0.502018   0.50356674 0.5045658 ]], shape=(4, 3), dtype=float32)\n",
      "y_true :  <tf.Variable 'Variable:0' shape=(3,) dtype=float32, numpy=array([1., 1., 1.], dtype=float32)>\n",
      "step 10, training accuracy 0.75, loss 0.0827959, change in loss 3.06815e-05\n",
      "y_pred :  tf.Tensor(\n",
      "[[0.5031087  0.50056297 0.49552143]\n",
      " [0.5042033  0.49835172 0.4968967 ]\n",
      " [0.5011039  0.49598572 0.49397033]\n",
      " [0.5020973  0.50364655 0.5046459 ]], shape=(4, 3), dtype=float32)\n",
      "y_true :  <tf.Variable 'Variable:0' shape=(3,) dtype=float32, numpy=array([1., 1., 1.], dtype=float32)>\n",
      "step 20, training accuracy 0.75, loss 0.0827653, change in loss 3.06591e-05\n",
      "y_pred :  tf.Tensor(\n",
      "[[0.50318795 0.5006429  0.49560195]\n",
      " [0.5042825  0.49843177 0.49697718]\n",
      " [0.5011832  0.49606586 0.49405098]\n",
      " [0.5021766  0.5037263  0.50472593]], shape=(4, 3), dtype=float32)\n",
      "y_true :  <tf.Variable 'Variable:0' shape=(3,) dtype=float32, numpy=array([1., 1., 1.], dtype=float32)>\n",
      "step 30, training accuracy 0.75, loss 0.0827346, change in loss 3.06368e-05\n",
      "y_pred :  tf.Tensor(\n",
      "[[0.50326717 0.5007228  0.49568248]\n",
      " [0.5043617  0.49851182 0.49705765]\n",
      " [0.50126255 0.496146   0.49413154]\n",
      " [0.50225586 0.5038061  0.50480604]], shape=(4, 3), dtype=float32)\n",
      "y_true :  <tf.Variable 'Variable:0' shape=(3,) dtype=float32, numpy=array([1., 1., 1.], dtype=float32)>\n",
      "step 40, training accuracy 0.75, loss 0.082704, change in loss 3.06368e-05\n",
      "y_pred :  tf.Tensor(\n",
      "[[0.5033464  0.5008027  0.49576297]\n",
      " [0.50444084 0.4985918  0.49713808]\n",
      " [0.5013419  0.49622613 0.4942121 ]\n",
      " [0.50233513 0.50388587 0.5048861 ]], shape=(4, 3), dtype=float32)\n",
      "y_true :  <tf.Variable 'Variable:0' shape=(3,) dtype=float32, numpy=array([1., 1., 1.], dtype=float32)>\n",
      "step 50, training accuracy 0.75, loss 0.0826734, change in loss 3.06144e-05\n",
      "y_pred :  tf.Tensor(\n",
      "[[0.50342554 0.5008826  0.49584344]\n",
      " [0.50451994 0.49867183 0.4972185 ]\n",
      " [0.50142115 0.4963062  0.49429265]\n",
      " [0.5024144  0.5039656  0.50496614]], shape=(4, 3), dtype=float32)\n",
      "y_true :  <tf.Variable 'Variable:0' shape=(3,) dtype=float32, numpy=array([1., 1., 1.], dtype=float32)>\n",
      "step 60, training accuracy 0.75, loss 0.0826428, change in loss 3.05995e-05\n",
      "y_pred :  tf.Tensor(\n",
      "[[0.50350475 0.5009625  0.4959239 ]\n",
      " [0.5045991  0.4987518  0.4972989 ]\n",
      " [0.5015004  0.49638632 0.49437323]\n",
      " [0.5024936  0.5040453  0.5050462 ]], shape=(4, 3), dtype=float32)\n",
      "y_true :  <tf.Variable 'Variable:0' shape=(3,) dtype=float32, numpy=array([1., 1., 1.], dtype=float32)>\n",
      "step 70, training accuracy 0.75, loss 0.0826122, change in loss 3.05846e-05\n",
      "y_pred :  tf.Tensor(\n",
      "[[0.5035839  0.5010423  0.49600434]\n",
      " [0.5046782  0.49883175 0.49737927]\n",
      " [0.5015797  0.49646637 0.49445367]\n",
      " [0.50257283 0.504125   0.5051262 ]], shape=(4, 3), dtype=float32)\n",
      "y_true :  <tf.Variable 'Variable:0' shape=(3,) dtype=float32, numpy=array([1., 1., 1.], dtype=float32)>\n",
      "step 80, training accuracy 0.75, loss 0.0825816, change in loss 3.05772e-05\n",
      "y_pred :  tf.Tensor(\n",
      "[[0.503663   0.5011222  0.49608478]\n",
      " [0.5047573  0.49891168 0.49745962]\n",
      " [0.5016589  0.49654642 0.49453422]\n",
      " [0.502652   0.5042047  0.50520617]], shape=(4, 3), dtype=float32)\n",
      "y_true :  <tf.Variable 'Variable:0' shape=(3,) dtype=float32, numpy=array([1., 1., 1.], dtype=float32)>\n",
      "step 90, training accuracy 0.75, loss 0.0825511, change in loss 3.05548e-05\n",
      "y_pred :  tf.Tensor(\n",
      "[[0.50373423 0.501194   0.49615714]\n",
      " [0.5048284  0.4989836  0.49753192]\n",
      " [0.5017302  0.49661845 0.49460664]\n",
      " [0.5027232  0.5042764  0.5052781 ]], shape=(4, 3), dtype=float32)\n",
      "y_true :  <tf.Variable 'Variable:0' shape=(3,) dtype=float32, numpy=array([1., 1., 1.], dtype=float32)>\n",
      "step 100, training accuracy 0.75, loss 0.0825236, change in loss 2.74926e-05\n",
      "y_pred :  tf.Tensor(\n",
      "[[0.5037738  0.5012339  0.49619734]\n",
      " [0.504868   0.49902356 0.4975721 ]\n",
      " [0.50176984 0.49665844 0.49464685]\n",
      " [0.50276285 0.5043162  0.5053181 ]], shape=(4, 3), dtype=float32)\n",
      "y_true :  <tf.Variable 'Variable:0' shape=(3,) dtype=float32, numpy=array([1., 1., 1.], dtype=float32)>\n",
      "step 110, training accuracy 0.75, loss 0.0825083, change in loss 1.52662e-05\n",
      "y_pred :  tf.Tensor(\n",
      "[[0.5038133  0.50127375 0.49623752]\n",
      " [0.5049075  0.4990635  0.49761224]\n",
      " [0.5018094  0.49669844 0.49468705]\n",
      " [0.50280243 0.504356   0.5053581 ]], shape=(4, 3), dtype=float32)\n",
      "y_true :  <tf.Variable 'Variable:0' shape=(3,) dtype=float32, numpy=array([1., 1., 1.], dtype=float32)>\n",
      "step 120, training accuracy 0.75, loss 0.082493, change in loss 1.52513e-05\n",
      "y_pred :  tf.Tensor(\n",
      "[[0.50385284 0.5013137  0.49627772]\n",
      " [0.50494695 0.49910346 0.4976524 ]\n",
      " [0.501849   0.49673843 0.4947273 ]\n",
      " [0.50284195 0.50439584 0.50539804]], shape=(4, 3), dtype=float32)\n",
      "y_true :  <tf.Variable 'Variable:0' shape=(3,) dtype=float32, numpy=array([1., 1., 1.], dtype=float32)>\n",
      "step 130, training accuracy 0.75, loss 0.0824778, change in loss 1.52588e-05\n",
      "y_pred :  tf.Tensor(\n",
      "[[0.5038924  0.50135356 0.4963179 ]\n",
      " [0.50498646 0.4991434  0.49769256]\n",
      " [0.5018886  0.49677843 0.49476752]\n",
      " [0.5028815  0.50443566 0.505438  ]], shape=(4, 3), dtype=float32)\n",
      "y_true :  <tf.Variable 'Variable:0' shape=(3,) dtype=float32, numpy=array([1., 1., 1.], dtype=float32)>\n",
      "step 140, training accuracy 0.75, loss 0.0824625, change in loss 1.52662e-05\n",
      "y_pred :  tf.Tensor(\n",
      "[[0.50393194 0.50139344 0.49635807]\n",
      " [0.505026   0.49918333 0.4977327 ]\n",
      " [0.50192815 0.49681842 0.49480772]\n",
      " [0.5029211  0.5044755  0.50547796]], shape=(4, 3), dtype=float32)\n",
      "y_true :  <tf.Variable 'Variable:0' shape=(3,) dtype=float32, numpy=array([1., 1., 1.], dtype=float32)>\n",
      "step 150, training accuracy 0.75, loss 0.0824473, change in loss 1.52439e-05\n",
      "y_pred :  tf.Tensor(\n",
      "[[0.50397146 0.5014333  0.49639824]\n",
      " [0.5050655  0.49922323 0.49777284]\n",
      " [0.5019677  0.49685842 0.4948479 ]\n",
      " [0.5029606  0.50451523 0.5055179 ]], shape=(4, 3), dtype=float32)\n",
      "y_true :  <tf.Variable 'Variable:0' shape=(3,) dtype=float32, numpy=array([1., 1., 1.], dtype=float32)>\n",
      "step 160, training accuracy 0.75, loss 0.082432, change in loss 1.52439e-05\n",
      "y_pred :  tf.Tensor(\n",
      "[[0.504011   0.5014732  0.4964384 ]\n",
      " [0.50510496 0.49926317 0.497813  ]\n",
      " [0.5020073  0.49689838 0.49488813]\n",
      " [0.5030002  0.50455505 0.50555784]], shape=(4, 3), dtype=float32)\n",
      "y_true :  <tf.Variable 'Variable:0' shape=(3,) dtype=float32, numpy=array([1., 1., 1.], dtype=float32)>\n",
      "step 170, training accuracy 0.75, loss 0.0824168, change in loss 1.52439e-05\n",
      "y_pred :  tf.Tensor(\n",
      "[[0.5040505  0.50151306 0.49647856]\n",
      " [0.5051445  0.4993031  0.4978531 ]\n",
      " [0.5020469  0.49693835 0.49492836]\n",
      " [0.5030397  0.5045948  0.50559783]], shape=(4, 3), dtype=float32)\n",
      "y_true :  <tf.Variable 'Variable:0' shape=(3,) dtype=float32, numpy=array([1., 1., 1.], dtype=float32)>\n",
      "step 180, training accuracy 0.75, loss 0.0824015, change in loss 1.52439e-05\n",
      "y_pred :  tf.Tensor(\n",
      "[[0.50409    0.5015529  0.49651873]\n",
      " [0.50518394 0.499343   0.49789324]\n",
      " [0.50208646 0.4969783  0.49496853]\n",
      " [0.5030793  0.5046346  0.50563776]], shape=(4, 3), dtype=float32)\n",
      "y_true :  <tf.Variable 'Variable:0' shape=(3,) dtype=float32, numpy=array([1., 1., 1.], dtype=float32)>\n",
      "step 190, training accuracy 0.75, loss 0.0823863, change in loss 1.52439e-05\n",
      "y_pred :  tf.Tensor(\n",
      "[[0.5041236  0.5015868  0.49655285]\n",
      " [0.5052175  0.49937692 0.49792734]\n",
      " [0.5021201  0.4970123  0.49500266]\n",
      " [0.50311285 0.5046685  0.5056717 ]], shape=(4, 3), dtype=float32)\n",
      "y_true :  <tf.Variable 'Variable:0' shape=(3,) dtype=float32, numpy=array([1., 1., 1.], dtype=float32)>\n",
      "step 200, training accuracy 0.75, loss 0.0823734, change in loss 1.29491e-05\n",
      "y_pred :  tf.Tensor(\n",
      "[[0.50414336 0.5016067  0.49657294]\n",
      " [0.5052373  0.4993969  0.4979474 ]\n",
      " [0.50213987 0.49703228 0.49502274]\n",
      " [0.50313264 0.5046883  0.50569165]], shape=(4, 3), dtype=float32)\n",
      "y_true :  <tf.Variable 'Variable:0' shape=(3,) dtype=float32, numpy=array([1., 1., 1.], dtype=float32)>\n",
      "step 210, training accuracy 0.75, loss 0.0823657, change in loss 7.62194e-06\n",
      "y_pred :  tf.Tensor(\n",
      "[[0.5041631  0.5016266  0.496593  ]\n",
      " [0.505257   0.49941683 0.49796745]\n",
      " [0.50215966 0.49705225 0.49504286]\n",
      " [0.5031524  0.50470823 0.5057116 ]], shape=(4, 3), dtype=float32)\n",
      "y_true :  <tf.Variable 'Variable:0' shape=(3,) dtype=float32, numpy=array([1., 1., 1.], dtype=float32)>\n",
      "step 220, training accuracy 0.75, loss 0.0823581, change in loss 7.59959e-06\n",
      "y_pred :  tf.Tensor(\n",
      "[[0.5041829  0.5016466  0.4966131 ]\n",
      " [0.50527674 0.49943677 0.4979875 ]\n",
      " [0.5021794  0.49707225 0.49506295]\n",
      " [0.5031722  0.5047281  0.5057316 ]], shape=(4, 3), dtype=float32)\n",
      "y_true :  <tf.Variable 'Variable:0' shape=(3,) dtype=float32, numpy=array([1., 1., 1.], dtype=float32)>\n",
      "step 230, training accuracy 0.75, loss 0.0823505, change in loss 7.60704e-06\n",
      "y_pred :  tf.Tensor(\n",
      "[[0.5042026  0.5016665  0.49663314]\n",
      " [0.50529647 0.49945673 0.49800757]\n",
      " [0.5021992  0.49709222 0.49508306]\n",
      " [0.50319195 0.504748   0.5057515 ]], shape=(4, 3), dtype=float32)\n",
      "y_true :  <tf.Variable 'Variable:0' shape=(3,) dtype=float32, numpy=array([1., 1., 1.], dtype=float32)>\n",
      "step 240, training accuracy 0.75, loss 0.0823429, change in loss 7.62939e-06\n",
      "y_pred :  tf.Tensor(\n",
      "[[0.50422233 0.5016864  0.49665323]\n",
      " [0.5053162  0.49947667 0.49802762]\n",
      " [0.50221896 0.49711218 0.49510315]\n",
      " [0.5032117  0.5047679  0.50577146]], shape=(4, 3), dtype=float32)\n"
     ]
    },
    {
     "name": "stdout",
     "output_type": "stream",
     "text": [
      "y_true :  <tf.Variable 'Variable:0' shape=(3,) dtype=float32, numpy=array([1., 1., 1.], dtype=float32)>\n",
      "step 250, training accuracy 0.75, loss 0.0823353, change in loss 7.60704e-06\n",
      "y_pred :  tf.Tensor(\n",
      "[[0.5042421  0.5017063  0.4966733 ]\n",
      " [0.5053359  0.49949664 0.49804768]\n",
      " [0.50223875 0.49713215 0.49512327]\n",
      " [0.50323147 0.50478774 0.5057915 ]], shape=(4, 3), dtype=float32)\n",
      "y_true :  <tf.Variable 'Variable:0' shape=(3,) dtype=float32, numpy=array([1., 1., 1.], dtype=float32)>\n",
      "step 260, training accuracy 0.75, loss 0.0823277, change in loss 7.62939e-06\n",
      "y_pred :  tf.Tensor(\n",
      "[[0.50426185 0.50172627 0.49669334]\n",
      " [0.50535566 0.49951658 0.49806774]\n",
      " [0.5022585  0.49715215 0.4951433 ]\n",
      " [0.5032512  0.5048076  0.5058114 ]], shape=(4, 3), dtype=float32)\n",
      "y_true :  <tf.Variable 'Variable:0' shape=(3,) dtype=float32, numpy=array([1., 1., 1.], dtype=float32)>\n",
      "step 270, training accuracy 0.75, loss 0.0823201, change in loss 7.59214e-06\n",
      "y_pred :  tf.Tensor(\n",
      "[[0.5042816  0.5017462  0.49671343]\n",
      " [0.5053754  0.4995365  0.49808776]\n",
      " [0.50227827 0.49717212 0.49516335]\n",
      " [0.503271   0.5048275  0.50583136]], shape=(4, 3), dtype=float32)\n",
      "y_true :  <tf.Variable 'Variable:0' shape=(3,) dtype=float32, numpy=array([1., 1., 1.], dtype=float32)>\n",
      "step 280, training accuracy 0.75, loss 0.0823124, change in loss 7.61449e-06\n",
      "y_pred :  tf.Tensor(\n",
      "[[0.5043013  0.5017661  0.4967335 ]\n",
      " [0.5053951  0.49955645 0.49810782]\n",
      " [0.50229806 0.49719208 0.49518347]\n",
      " [0.5032907  0.5048474  0.5058513 ]], shape=(4, 3), dtype=float32)\n",
      "y_true :  <tf.Variable 'Variable:0' shape=(3,) dtype=float32, numpy=array([1., 1., 1.], dtype=float32)>\n",
      "step 290, training accuracy 0.75, loss 0.0823049, change in loss 7.59959e-06\n",
      "y_pred :  tf.Tensor(\n",
      "[[0.5043171  0.501782   0.49674955]\n",
      " [0.5054109  0.49957243 0.49812385]\n",
      " [0.50231385 0.49720806 0.4951995 ]\n",
      " [0.5033065  0.50486326 0.5058673 ]], shape=(4, 3), dtype=float32)\n",
      "y_true :  <tf.Variable 'Variable:0' shape=(3,) dtype=float32, numpy=array([1., 1., 1.], dtype=float32)>\n",
      "step 300, training accuracy 0.75, loss 0.0822988, change in loss 6.07967e-06\n",
      "y_pred :  tf.Tensor(\n",
      "[[0.504327   0.50179195 0.49675956]\n",
      " [0.50542074 0.49958238 0.4981339 ]\n",
      " [0.50232375 0.49721804 0.49520954]\n",
      " [0.5033164  0.5048732  0.50587726]], shape=(4, 3), dtype=float32)\n",
      "y_true :  <tf.Variable 'Variable:0' shape=(3,) dtype=float32, numpy=array([1., 1., 1.], dtype=float32)>\n",
      "step 310, training accuracy 0.75, loss 0.0822949, change in loss 3.82215e-06\n",
      "y_pred :  tf.Tensor(\n",
      "[[0.5043369  0.5018019  0.4967696 ]\n",
      " [0.50543064 0.49959236 0.4981439 ]\n",
      " [0.50233364 0.49722803 0.4952196 ]\n",
      " [0.5033263  0.50488317 0.5058872 ]], shape=(4, 3), dtype=float32)\n",
      "y_true :  <tf.Variable 'Variable:0' shape=(3,) dtype=float32, numpy=array([1., 1., 1.], dtype=float32)>\n",
      "step 320, training accuracy 0.75, loss 0.0822911, change in loss 3.80725e-06\n",
      "y_pred :  tf.Tensor(\n",
      "[[0.5043467  0.50181186 0.49677962]\n",
      " [0.5054405  0.49960232 0.49815392]\n",
      " [0.5023435  0.497238   0.49522966]\n",
      " [0.50333613 0.5048931  0.50589716]], shape=(4, 3), dtype=float32)\n",
      "y_true :  <tf.Variable 'Variable:0' shape=(3,) dtype=float32, numpy=array([1., 1., 1.], dtype=float32)>\n",
      "step 330, training accuracy 0.75, loss 0.0822873, change in loss 3.79235e-06\n",
      "y_pred :  tf.Tensor(\n",
      "[[0.5043566  0.5018218  0.49678966]\n",
      " [0.50545037 0.4996123  0.49816397]\n",
      " [0.50235337 0.497248   0.4952397 ]\n",
      " [0.503346   0.504903   0.5059072 ]], shape=(4, 3), dtype=float32)\n",
      "y_true :  <tf.Variable 'Variable:0' shape=(3,) dtype=float32, numpy=array([1., 1., 1.], dtype=float32)>\n",
      "step 340, training accuracy 0.75, loss 0.0822835, change in loss 3.7998e-06\n",
      "y_pred :  tf.Tensor(\n",
      "[[0.50436646 0.50183177 0.49679968]\n",
      " [0.5054602  0.49962226 0.49817398]\n",
      " [0.50236326 0.49725798 0.49524972]\n",
      " [0.5033559  0.504913   0.50591713]], shape=(4, 3), dtype=float32)\n",
      "y_true :  <tf.Variable 'Variable:0' shape=(3,) dtype=float32, numpy=array([1., 1., 1.], dtype=float32)>\n",
      "step 350, training accuracy 0.75, loss 0.0822797, change in loss 3.80725e-06\n",
      "y_pred :  tf.Tensor(\n",
      "[[0.50437635 0.5018417  0.49680972]\n",
      " [0.5054701  0.49963224 0.498184  ]\n",
      " [0.50237316 0.49726796 0.49525976]\n",
      " [0.5033658  0.5049229  0.5059271 ]], shape=(4, 3), dtype=float32)\n",
      "y_true :  <tf.Variable 'Variable:0' shape=(3,) dtype=float32, numpy=array([1., 1., 1.], dtype=float32)>\n",
      "step 360, training accuracy 0.75, loss 0.0822759, change in loss 3.7998e-06\n",
      "y_pred :  tf.Tensor(\n",
      "[[0.50438625 0.5018517  0.49681976]\n",
      " [0.50547993 0.4996422  0.49819404]\n",
      " [0.50238305 0.49727795 0.49526978]\n",
      " [0.50337565 0.5049329  0.5059371 ]], shape=(4, 3), dtype=float32)\n",
      "y_true :  <tf.Variable 'Variable:0' shape=(3,) dtype=float32, numpy=array([1., 1., 1.], dtype=float32)>\n",
      "step 370, training accuracy 0.75, loss 0.0822721, change in loss 3.7998e-06\n",
      "y_pred :  tf.Tensor(\n",
      "[[0.5043961  0.5018617  0.49682978]\n",
      " [0.5054898  0.49965218 0.49820405]\n",
      " [0.5023929  0.49728793 0.49527982]\n",
      " [0.50338554 0.5049428  0.50594705]], shape=(4, 3), dtype=float32)\n",
      "y_true :  <tf.Variable 'Variable:0' shape=(3,) dtype=float32, numpy=array([1., 1., 1.], dtype=float32)>\n",
      "step 380, training accuracy 0.75, loss 0.0822683, change in loss 3.8147e-06\n",
      "y_pred :  tf.Tensor(\n",
      "[[0.504406   0.50187165 0.49683982]\n",
      " [0.50549966 0.49966213 0.49821407]\n",
      " [0.5024028  0.4972979  0.4952899 ]\n",
      " [0.5033954  0.5049527  0.505957  ]], shape=(4, 3), dtype=float32)\n",
      "y_true :  <tf.Variable 'Variable:0' shape=(3,) dtype=float32, numpy=array([1., 1., 1.], dtype=float32)>\n",
      "step 390, training accuracy 0.75, loss 0.0822645, change in loss 3.78489e-06\n",
      "y_pred :  tf.Tensor(\n",
      "[[0.50441337 0.5018791  0.49684733]\n",
      " [0.50550705 0.4996696  0.49822158]\n",
      " [0.5024102  0.4973054  0.49529737]\n",
      " [0.5034028  0.5049601  0.5059645 ]], shape=(4, 3), dtype=float32)\n",
      "y_true :  <tf.Variable 'Variable:0' shape=(3,) dtype=float32, numpy=array([1., 1., 1.], dtype=float32)>\n",
      "step 400, training accuracy 0.75, loss 0.0822617, change in loss 2.84612e-06\n",
      "y_pred :  tf.Tensor(\n",
      "[[0.5044183  0.50188404 0.49685234]\n",
      " [0.505512   0.4996746  0.49822658]\n",
      " [0.5024151  0.4973104  0.4953024 ]\n",
      " [0.5034078  0.5049651  0.5059695 ]], shape=(4, 3), dtype=float32)\n",
      "y_true :  <tf.Variable 'Variable:0' shape=(3,) dtype=float32, numpy=array([1., 1., 1.], dtype=float32)>\n",
      "step 410, training accuracy 0.75, loss 0.0822598, change in loss 1.90735e-06\n",
      "y_pred :  tf.Tensor(\n",
      "[[0.5044232  0.50188905 0.49685735]\n",
      " [0.50551695 0.4996796  0.49823162]\n",
      " [0.50242007 0.49731538 0.49530745]\n",
      " [0.50341266 0.50497013 0.5059745 ]], shape=(4, 3), dtype=float32)\n",
      "y_true :  <tf.Variable 'Variable:0' shape=(3,) dtype=float32, numpy=array([1., 1., 1.], dtype=float32)>\n",
      "step 420, training accuracy 0.75, loss 0.0822579, change in loss 1.9148e-06\n",
      "y_pred :  tf.Tensor(\n",
      "[[0.50442815 0.501894   0.49686238]\n",
      " [0.50552183 0.49968457 0.49823663]\n",
      " [0.502425   0.49732035 0.49531248]\n",
      " [0.5034176  0.5049751  0.5059795 ]], shape=(4, 3), dtype=float32)\n",
      "y_true :  <tf.Variable 'Variable:0' shape=(3,) dtype=float32, numpy=array([1., 1., 1.], dtype=float32)>\n",
      "step 430, training accuracy 0.75, loss 0.082256, change in loss 1.8999e-06\n",
      "y_pred :  tf.Tensor(\n",
      "[[0.5044331  0.501899   0.4968674 ]\n",
      " [0.5055268  0.49968955 0.49824163]\n",
      " [0.50242996 0.49732536 0.4953175 ]\n",
      " [0.50342256 0.50498    0.5059844 ]], shape=(4, 3), dtype=float32)\n",
      "y_true :  <tf.Variable 'Variable:0' shape=(3,) dtype=float32, numpy=array([1., 1., 1.], dtype=float32)>\n",
      "step 440, training accuracy 0.75, loss 0.0822541, change in loss 1.8999e-06\n",
      "y_pred :  tf.Tensor(\n",
      "[[0.50443804 0.50190395 0.4968724 ]\n",
      " [0.5055317  0.49969453 0.49824664]\n",
      " [0.5024349  0.49733034 0.49532253]\n",
      " [0.5034275  0.50498503 0.50598943]], shape=(4, 3), dtype=float32)\n",
      "y_true :  <tf.Variable 'Variable:0' shape=(3,) dtype=float32, numpy=array([1., 1., 1.], dtype=float32)>\n",
      "step 450, training accuracy 0.75, loss 0.0822522, change in loss 1.90735e-06\n",
      "y_pred :  tf.Tensor(\n",
      "[[0.50444293 0.50190896 0.4968774 ]\n",
      " [0.5055367  0.4996995  0.49825165]\n",
      " [0.50243986 0.49733534 0.49532756]\n",
      " [0.50343245 0.50499    0.50599444]], shape=(4, 3), dtype=float32)\n",
      "y_true :  <tf.Variable 'Variable:0' shape=(3,) dtype=float32, numpy=array([1., 1., 1.], dtype=float32)>\n",
      "step 460, training accuracy 0.75, loss 0.0822503, change in loss 1.89245e-06\n",
      "y_pred :  tf.Tensor(\n",
      "[[0.5044479  0.5019139  0.49688244]\n",
      " [0.50554156 0.49970448 0.49825665]\n",
      " [0.5024448  0.49734032 0.49533254]\n",
      " [0.5034374  0.5049949  0.5059994 ]], shape=(4, 3), dtype=float32)\n",
      "y_true :  <tf.Variable 'Variable:0' shape=(3,) dtype=float32, numpy=array([1., 1., 1.], dtype=float32)>\n",
      "step 470, training accuracy 0.75, loss 0.0822484, change in loss 1.885e-06\n",
      "y_pred :  tf.Tensor(\n",
      "[[0.5044528  0.5019189  0.49688745]\n",
      " [0.5055465  0.4997095  0.49826166]\n",
      " [0.5024497  0.49734533 0.49533758]\n",
      " [0.5034423  0.50499994 0.5060044 ]], shape=(4, 3), dtype=float32)\n",
      "y_true :  <tf.Variable 'Variable:0' shape=(3,) dtype=float32, numpy=array([1., 1., 1.], dtype=float32)>\n",
      "step 480, training accuracy 0.75, loss 0.0822465, change in loss 1.9148e-06\n",
      "y_pred :  tf.Tensor(\n",
      "[[0.5044578  0.50192386 0.49689245]\n",
      " [0.50555146 0.49971446 0.49826667]\n",
      " [0.50245464 0.4973503  0.49534252]\n",
      " [0.50344723 0.5050049  0.5060094 ]], shape=(4, 3), dtype=float32)\n",
      "y_true :  <tf.Variable 'Variable:0' shape=(3,) dtype=float32, numpy=array([1., 1., 1.], dtype=float32)>\n",
      "step 490, training accuracy 0.75, loss 0.0822446, change in loss 1.89245e-06\n",
      "y_pred :  tf.Tensor(\n",
      "[[0.5044612  0.5019274  0.49689597]\n",
      " [0.5055549  0.49971795 0.49827018]\n",
      " [0.5024581  0.4973538  0.4953461 ]\n",
      " [0.5034507  0.50500834 0.5060129 ]], shape=(4, 3), dtype=float32)\n"
     ]
    },
    {
     "name": "stdout",
     "output_type": "stream",
     "text": [
      "y_true :  <tf.Variable 'Variable:0' shape=(3,) dtype=float32, numpy=array([1., 1., 1.], dtype=float32)>\n",
      "step 500, training accuracy 0.75, loss 0.0822432, change in loss 1.33365e-06\n",
      "y_pred :  tf.Tensor(\n",
      "[[0.5044637  0.5019298  0.49689847]\n",
      " [0.50555736 0.49972045 0.4982727 ]\n",
      " [0.5024606  0.4973563  0.49534863]\n",
      " [0.50345314 0.50501084 0.50601536]], shape=(4, 3), dtype=float32)\n",
      "y_true :  <tf.Variable 'Variable:0' shape=(3,) dtype=float32, numpy=array([1., 1., 1.], dtype=float32)>\n",
      "step 510, training accuracy 0.75, loss 0.0822423, change in loss 9.38773e-07\n",
      "change in loss 9.38773e-07; convergence.\n",
      "final accuracy on test set: tf.Tensor(0.75, shape=(), dtype=float32)\n"
     ]
    }
   ],
   "source": [
    "# Initialize reporting variables\n",
    "display_step = 10\n",
    "epoch_values = []\n",
    "accuracy_values = []\n",
    "loss_values = []\n",
    "loss = 0\n",
    "diff = 1\n",
    "# Training epochs\n",
    "for i in range(numEpochs):\n",
    "    if i > 1 and diff < .000001:\n",
    "        print(\"change in loss %g; convergence.\"%diff)\n",
    "        break\n",
    "    else:\n",
    "        # Run training step\n",
    "        run_optimization(X, yGold)\n",
    "        \n",
    "        # Report occasional stats\n",
    "        if i % display_step == 0:\n",
    "            # Add epoch to epoch_values\n",
    "            epoch_values.append(i)\n",
    "            \n",
    "            pred = logistic_regression(X)\n",
    "\n",
    "            newLoss = loss_object(pred, yGold)\n",
    "            # Add loss to live graphing variable\n",
    "            loss_values.append(newLoss)\n",
    "            \n",
    "            # Generate accuracy stats on test data\n",
    "            acc = accuracy(pred, yGold)\n",
    "            accuracy_values.append(acc)\n",
    "            \n",
    "    \n",
    "            # Re-assign values for variables\n",
    "            diff = abs(newLoss - loss)\n",
    "            loss = newLoss\n",
    "\n",
    "            #generate print statements\n",
    "            print(\"step %d, training accuracy %g, loss %g, change in loss %g\"%(i, acc, newLoss, diff))\n",
    "\n",
    "        \n",
    "\n",
    "          \n",
    "\n",
    "# How well do we perform on held-out test data?\n",
    "print(\"final accuracy on test set: %s\" %str(acc))\n",
    "\n",
    "\n"
   ]
  },
  {
   "cell_type": "markdown",
   "metadata": {},
   "source": [
    "<b>Why don't we plot the loss to see how it behaves?</b>\n"
   ]
  },
  {
   "cell_type": "code",
   "execution_count": 30,
   "metadata": {},
   "outputs": [
    {
     "data": {
      "image/png": "[encoded data removed]",
      "text/plain": [
       "<Figure size 432x288 with 1 Axes>"
      ]
     },
     "metadata": {
      "needs_background": "light"
     },
     "output_type": "display_data"
    }
   ],
   "source": [
    "%matplotlib inline\n",
    "import numpy as np\n",
    "import matplotlib.pyplot as plt\n",
    "plt.plot([np.mean(loss_values[i-50:i]) for i in range(len(loss_values))])\n",
    "plt.show()"
   ]
  }
 ],
 "metadata": {
  "kernelspec": {
   "display_name": "Python 3",
   "language": "python",
   "name": "python3"
  },
  "language_info": {
   "codemirror_mode": {
    "name": "ipython",
    "version": 3
   },
   "file_extension": ".py",
   "mimetype": "text/x-python",
   "name": "python",
   "nbconvert_exporter": "python",
   "pygments_lexer": "ipython3",
   "version": "3.7.3"
  }
 },
 "nbformat": 4,
 "nbformat_minor": 4
}
